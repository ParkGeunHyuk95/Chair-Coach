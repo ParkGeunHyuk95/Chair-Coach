{
 "cells": [
  {
   "cell_type": "code",
   "execution_count": 1,
   "metadata": {},
   "outputs": [],
   "source": [
    "from imblearn.over_sampling import SMOTE\n",
    "import numpy as np\n",
    "from xgboost import XGBClassifier\n",
    "from sklearn.metrics import accuracy_score, classification_report\n",
    "from sklearn.model_selection import train_test_split, KFold, cross_val_score"
   ]
  },
  {
   "attachments": {},
   "cell_type": "markdown",
   "metadata": {},
   "source": [
    "### load csv data"
   ]
  },
  {
   "cell_type": "code",
   "execution_count": 3,
   "metadata": {},
   "outputs": [],
   "source": [
    "X_train = np.loadtxt('../data/csvs/csv_3/train_data_mv3_22.csv', delimiter=',', skiprows=1)\n",
    "y_train = np.loadtxt('../data/csvs/csv_3/train_y_mv3_22.csv', delimiter=',', skiprows=1)\n",
    "X_test = np.loadtxt('../data/csvs/csv_3/test_data_mv3_22.csv', delimiter=',', skiprows=1)\n",
    "y_test = np.loadtxt('../data/csvs/csv_3/test_y_mv3_22.csv', delimiter=',', skiprows=1)"
   ]
  },
  {
   "attachments": {},
   "cell_type": "markdown",
   "metadata": {},
   "source": [
    "### over sampling using SMOTE"
   ]
  },
  {
   "cell_type": "code",
   "execution_count": 4,
   "metadata": {},
   "outputs": [],
   "source": [
    "smote = SMOTE(random_state=11)\n",
    "X_train_over, y_train_over = smote.fit_resample(X_train, y_train)"
   ]
  },
  {
   "attachments": {},
   "cell_type": "markdown",
   "metadata": {},
   "source": [
    "### split train, validation data"
   ]
  },
  {
   "cell_type": "code",
   "execution_count": 5,
   "metadata": {},
   "outputs": [],
   "source": [
    "X_train, X_val, y_train, y_val = train_test_split(X_train_over, y_train_over, test_size=0.10)"
   ]
  },
  {
   "attachments": {},
   "cell_type": "markdown",
   "metadata": {},
   "source": [
    "### train with XGBClassifier"
   ]
  },
  {
   "cell_type": "code",
   "execution_count": 31,
   "metadata": {},
   "outputs": [
    {
     "name": "stdout",
     "output_type": "stream",
     "text": [
      "[0]\tvalidation_0-logloss:0.55813\n",
      "[2]\tvalidation_0-logloss:0.39185\n",
      "[4]\tvalidation_0-logloss:0.29701\n",
      "[6]\tvalidation_0-logloss:0.23640\n",
      "[8]\tvalidation_0-logloss:0.19701\n",
      "[10]\tvalidation_0-logloss:0.16875\n",
      "[12]\tvalidation_0-logloss:0.14972\n",
      "[14]\tvalidation_0-logloss:0.13515\n",
      "[16]\tvalidation_0-logloss:0.12413\n",
      "[18]\tvalidation_0-logloss:0.11600\n",
      "[20]\tvalidation_0-logloss:0.10899\n"
     ]
    },
    {
     "name": "stderr",
     "output_type": "stream",
     "text": [
      "c:\\Users\\miming\\anaconda3\\envs\\yolo-pose\\lib\\site-packages\\xgboost\\sklearn.py:861: UserWarning: `eval_metric` in `fit` method is deprecated for better compatibility with scikit-learn, use `eval_metric` in constructor or`set_params` instead.\n",
      "  warnings.warn(\n",
      "c:\\Users\\miming\\anaconda3\\envs\\yolo-pose\\lib\\site-packages\\xgboost\\sklearn.py:861: UserWarning: `early_stopping_rounds` in `fit` method is deprecated for better compatibility with scikit-learn, use `early_stopping_rounds` in constructor or`set_params` instead.\n",
      "  warnings.warn(\n"
     ]
    },
    {
     "name": "stdout",
     "output_type": "stream",
     "text": [
      "[22]\tvalidation_0-logloss:0.10421\n",
      "[24]\tvalidation_0-logloss:0.09976\n",
      "[26]\tvalidation_0-logloss:0.09614\n",
      "[28]\tvalidation_0-logloss:0.09276\n",
      "[30]\tvalidation_0-logloss:0.09037\n",
      "[32]\tvalidation_0-logloss:0.08802\n",
      "[34]\tvalidation_0-logloss:0.08600\n",
      "[36]\tvalidation_0-logloss:0.08449\n",
      "[38]\tvalidation_0-logloss:0.08342\n",
      "[40]\tvalidation_0-logloss:0.08197\n",
      "[42]\tvalidation_0-logloss:0.08100\n",
      "[44]\tvalidation_0-logloss:0.08017\n",
      "[46]\tvalidation_0-logloss:0.07941\n",
      "[48]\tvalidation_0-logloss:0.07829\n",
      "[50]\tvalidation_0-logloss:0.07769\n",
      "[52]\tvalidation_0-logloss:0.07684\n",
      "[54]\tvalidation_0-logloss:0.07653\n",
      "[56]\tvalidation_0-logloss:0.07605\n",
      "[58]\tvalidation_0-logloss:0.07568\n",
      "[60]\tvalidation_0-logloss:0.07525\n",
      "[62]\tvalidation_0-logloss:0.07513\n",
      "[64]\tvalidation_0-logloss:0.07470\n",
      "[66]\tvalidation_0-logloss:0.07467\n",
      "[68]\tvalidation_0-logloss:0.07444\n",
      "[70]\tvalidation_0-logloss:0.07439\n",
      "[72]\tvalidation_0-logloss:0.07418\n",
      "[74]\tvalidation_0-logloss:0.07396\n",
      "[76]\tvalidation_0-logloss:0.07399\n",
      "[78]\tvalidation_0-logloss:0.07371\n",
      "[80]\tvalidation_0-logloss:0.07365\n",
      "[82]\tvalidation_0-logloss:0.07339\n",
      "[84]\tvalidation_0-logloss:0.07358\n",
      "[86]\tvalidation_0-logloss:0.07332\n",
      "[88]\tvalidation_0-logloss:0.07308\n",
      "[90]\tvalidation_0-logloss:0.07310\n",
      "[92]\tvalidation_0-logloss:0.07302\n",
      "[94]\tvalidation_0-logloss:0.07303\n",
      "[96]\tvalidation_0-logloss:0.07290\n",
      "[98]\tvalidation_0-logloss:0.07282\n",
      "[100]\tvalidation_0-logloss:0.07291\n",
      "[102]\tvalidation_0-logloss:0.07280\n",
      "[104]\tvalidation_0-logloss:0.07291\n",
      "[106]\tvalidation_0-logloss:0.07302\n",
      "[108]\tvalidation_0-logloss:0.07304\n",
      "[110]\tvalidation_0-logloss:0.07303\n",
      "[112]\tvalidation_0-logloss:0.07310\n",
      "[114]\tvalidation_0-logloss:0.07313\n",
      "[116]\tvalidation_0-logloss:0.07334\n",
      "[118]\tvalidation_0-logloss:0.07353\n",
      "[120]\tvalidation_0-logloss:0.07359\n",
      "[122]\tvalidation_0-logloss:0.07383\n",
      "[124]\tvalidation_0-logloss:0.07389\n",
      "[126]\tvalidation_0-logloss:0.07380\n",
      "[128]\tvalidation_0-logloss:0.07386\n",
      "[130]\tvalidation_0-logloss:0.07397\n",
      "[132]\tvalidation_0-logloss:0.07379\n",
      "[134]\tvalidation_0-logloss:0.07413\n",
      "[136]\tvalidation_0-logloss:0.07419\n",
      "[138]\tvalidation_0-logloss:0.07421\n",
      "[140]\tvalidation_0-logloss:0.07431\n",
      "[142]\tvalidation_0-logloss:0.07434\n",
      "[144]\tvalidation_0-logloss:0.07439\n",
      "[146]\tvalidation_0-logloss:0.07447\n",
      "[148]\tvalidation_0-logloss:0.07429\n",
      "[150]\tvalidation_0-logloss:0.07449\n",
      "[152]\tvalidation_0-logloss:0.07465\n",
      "[154]\tvalidation_0-logloss:0.07479\n",
      "[156]\tvalidation_0-logloss:0.07461\n",
      "[158]\tvalidation_0-logloss:0.07470\n",
      "[160]\tvalidation_0-logloss:0.07485\n",
      "[162]\tvalidation_0-logloss:0.07479\n",
      "[164]\tvalidation_0-logloss:0.07484\n",
      "[166]\tvalidation_0-logloss:0.07475\n",
      "[168]\tvalidation_0-logloss:0.07486\n",
      "[170]\tvalidation_0-logloss:0.07469\n",
      "[172]\tvalidation_0-logloss:0.07487\n",
      "[174]\tvalidation_0-logloss:0.07486\n",
      "[176]\tvalidation_0-logloss:0.07475\n",
      "[178]\tvalidation_0-logloss:0.07465\n",
      "[180]\tvalidation_0-logloss:0.07472\n",
      "[182]\tvalidation_0-logloss:0.07480\n",
      "[184]\tvalidation_0-logloss:0.07478\n",
      "[186]\tvalidation_0-logloss:0.07479\n",
      "[188]\tvalidation_0-logloss:0.07471\n",
      "[190]\tvalidation_0-logloss:0.07477\n",
      "[192]\tvalidation_0-logloss:0.07472\n",
      "[194]\tvalidation_0-logloss:0.07475\n",
      "[196]\tvalidation_0-logloss:0.07497\n",
      "[198]\tvalidation_0-logloss:0.07490\n",
      "[200]\tvalidation_0-logloss:0.07489\n",
      "[201]\tvalidation_0-logloss:0.07490\n",
      "XGBClassifier(base_score=0.5, booster='gbtree', callbacks=None,\n",
      "              colsample_bylevel=1, colsample_bynode=1, colsample_bytree=1,\n",
      "              early_stopping_rounds=None, enable_categorical=False,\n",
      "              eval_metric=None, feature_types=None, gamma=0, gpu_id=-1,\n",
      "              grow_policy='depthwise', importance_type=None,\n",
      "              interaction_constraints='', learning_rate=0.18, max_bin=256,\n",
      "              max_cat_threshold=64, max_cat_to_onehot=4, max_delta_step=0,\n",
      "              max_depth=4, max_leaves=0, min_child_weight=1, missing=nan,\n",
      "              monotone_constraints='()', n_estimators=500, n_jobs=0,\n",
      "              num_parallel_tree=1, predictor='auto', random_state=32, ...)\n"
     ]
    }
   ],
   "source": [
    "model = XGBClassifier(n_estimators=500, learning_rate=0.18, max_depth=4, random_state=32)\n",
    "xgb_model = model.fit(X_train, y_train, eval_metric=\"logloss\", \n",
    "                      early_stopping_rounds=100, eval_set=([X_val, y_val],),\n",
    "                      verbose=2)\n",
    "print(xgb_model)"
   ]
  },
  {
   "attachments": {},
   "cell_type": "markdown",
   "metadata": {},
   "source": [
    "### predict test"
   ]
  },
  {
   "cell_type": "code",
   "execution_count": 32,
   "metadata": {},
   "outputs": [],
   "source": [
    "expected_y = y_test\n",
    "pred_y = xgb_model.predict(X_test)"
   ]
  },
  {
   "attachments": {},
   "cell_type": "markdown",
   "metadata": {},
   "source": [
    "### scores"
   ]
  },
  {
   "cell_type": "code",
   "execution_count": 33,
   "metadata": {},
   "outputs": [
    {
     "name": "stdout",
     "output_type": "stream",
     "text": [
      "              precision    recall  f1-score   support\n",
      "\n",
      "           0       1.00      0.86      0.93        44\n",
      "           1       0.97      0.76      0.85        45\n",
      "           2       0.98      0.90      0.94        49\n",
      "           3       0.96      0.94      0.95        53\n",
      "           4       0.78      0.74      0.76        47\n",
      "           5       1.00      0.79      0.88        33\n",
      "           6       0.88      0.76      0.81        37\n",
      "           7       1.00      0.86      0.93        36\n",
      "           8       0.98      0.87      0.92        63\n",
      "           9       1.00      0.89      0.94        38\n",
      "          10       0.93      0.82      0.87        34\n",
      "          11       1.00      0.75      0.86        32\n",
      "          12       1.00      0.84      0.92        45\n",
      "\n",
      "   micro avg       0.96      0.84      0.89       556\n",
      "   macro avg       0.96      0.83      0.89       556\n",
      "weighted avg       0.96      0.84      0.89       556\n",
      " samples avg       0.83      0.84      0.83       556\n",
      "\n",
      "Accuracy: 82.91%\n"
     ]
    },
    {
     "name": "stderr",
     "output_type": "stream",
     "text": [
      "c:\\Users\\miming\\anaconda3\\envs\\yolo-pose\\lib\\site-packages\\sklearn\\metrics\\_classification.py:1334: UndefinedMetricWarning: Precision and F-score are ill-defined and being set to 0.0 in samples with no predicted labels. Use `zero_division` parameter to control this behavior.\n",
      "  _warn_prf(average, modifier, msg_start, len(result))\n"
     ]
    }
   ],
   "source": [
    "print(classification_report(expected_y, pred_y))\n",
    "accuracy = accuracy_score(expected_y, pred_y)\n",
    "print(\"Accuracy: %.2f%%\" % (accuracy * 100))"
   ]
  },
  {
   "attachments": {},
   "cell_type": "markdown",
   "metadata": {},
   "source": [
    "### cross validation"
   ]
  },
  {
   "cell_type": "code",
   "execution_count": 34,
   "metadata": {},
   "outputs": [
    {
     "name": "stdout",
     "output_type": "stream",
     "text": [
      "교차 검증별 정확도:  [84.92 78.15 77.85 79.08 74.77]\n",
      "평균 검증 정확도:  78.95\n"
     ]
    }
   ],
   "source": [
    "# cross validation - kfold\n",
    "kfold = KFold(n_splits=5, shuffle=True, random_state=0)\n",
    "scores = cross_val_score(xgb_model, X_train_over, y_train_over, cv=kfold)\n",
    "\n",
    "# validation score\n",
    "print(\"교차 검증별 정확도: \", (np.round(scores, 4)* 100))\n",
    "print(\"평균 검증 정확도: \", (np.round(np.mean(scores), 4)*100))"
   ]
  },
  {
   "cell_type": "code",
   "execution_count": null,
   "metadata": {},
   "outputs": [],
   "source": []
  }
 ],
 "metadata": {
  "kernelspec": {
   "display_name": "yolo-pose",
   "language": "python",
   "name": "python3"
  },
  "language_info": {
   "codemirror_mode": {
    "name": "ipython",
    "version": 3
   },
   "file_extension": ".py",
   "mimetype": "text/x-python",
   "name": "python",
   "nbconvert_exporter": "python",
   "pygments_lexer": "ipython3",
   "version": "3.9.15"
  },
  "orig_nbformat": 4,
  "vscode": {
   "interpreter": {
    "hash": "fbcaa283362f7d7ab34f1f2f660dc94f80607c09155e3180ae2420da513f18b9"
   }
  }
 },
 "nbformat": 4,
 "nbformat_minor": 2
}
