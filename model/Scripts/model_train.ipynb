{
 "cells": [
  {
   "cell_type": "code",
   "execution_count": 1,
   "metadata": {},
   "outputs": [],
   "source": [
    "from imblearn.over_sampling import SMOTE\n",
    "import numpy as np\n",
    "from xgboost import XGBClassifier\n",
    "from sklearn.metrics import accuracy_score, classification_report\n",
    "from sklearn.model_selection import train_test_split, KFold, cross_val_score"
   ]
  },
  {
   "attachments": {},
   "cell_type": "markdown",
   "metadata": {},
   "source": [
    "### load csv data"
   ]
  },
  {
   "cell_type": "code",
   "execution_count": 2,
   "metadata": {},
   "outputs": [],
   "source": [
    "X_train = np.loadtxt('../data/csvs/csv_3_3/train_x_mv3_22_3.csv', delimiter=',', skiprows=1)\n",
    "y_train = np.loadtxt('../data/csvs/csv_3_3/train_y_mv3_22_3.csv', delimiter=',', skiprows=1)\n",
    "X_test = np.loadtxt('../data/csvs/csv_3_3/test_x_mv3_22_3.csv', delimiter=',', skiprows=1)\n",
    "y_test = np.loadtxt('../data/csvs/csv_3_3/test_y_mv3_22_3.csv', delimiter=',', skiprows=1)"
   ]
  },
  {
   "attachments": {},
   "cell_type": "markdown",
   "metadata": {},
   "source": [
    "### over sampling using SMOTE"
   ]
  },
  {
   "cell_type": "code",
   "execution_count": 3,
   "metadata": {},
   "outputs": [],
   "source": [
    "smote = SMOTE(random_state=11)\n",
    "X_train_over, y_train_over = smote.fit_resample(X_train, y_train)"
   ]
  },
  {
   "attachments": {},
   "cell_type": "markdown",
   "metadata": {},
   "source": [
    "### split train, validation data"
   ]
  },
  {
   "cell_type": "code",
   "execution_count": 4,
   "metadata": {},
   "outputs": [],
   "source": [
    "X_train, X_val, y_train, y_val = train_test_split(X_train_over, y_train_over, test_size=0.10)"
   ]
  },
  {
   "attachments": {},
   "cell_type": "markdown",
   "metadata": {},
   "source": [
    "### train with XGBClassifier"
   ]
  },
  {
   "cell_type": "code",
   "execution_count": 20,
   "metadata": {},
   "outputs": [
    {
     "name": "stdout",
     "output_type": "stream",
     "text": [
      "[0]\tvalidation_0-logloss:0.55342\n",
      "[2]\tvalidation_0-logloss:0.38069\n",
      "[4]\tvalidation_0-logloss:0.27888\n",
      "[6]\tvalidation_0-logloss:0.21218\n",
      "[8]\tvalidation_0-logloss:0.16661\n",
      "[10]\tvalidation_0-logloss:0.13643\n",
      "[12]\tvalidation_0-logloss:0.11541\n",
      "[14]\tvalidation_0-logloss:0.09974\n",
      "[16]\tvalidation_0-logloss:0.08734\n",
      "[18]\tvalidation_0-logloss:0.07849\n",
      "[20]\tvalidation_0-logloss:0.07204\n"
     ]
    },
    {
     "name": "stderr",
     "output_type": "stream",
     "text": [
      "c:\\Users\\miming\\anaconda3\\envs\\yolo-pose\\lib\\site-packages\\xgboost\\sklearn.py:861: UserWarning: `eval_metric` in `fit` method is deprecated for better compatibility with scikit-learn, use `eval_metric` in constructor or`set_params` instead.\n",
      "  warnings.warn(\n",
      "c:\\Users\\miming\\anaconda3\\envs\\yolo-pose\\lib\\site-packages\\xgboost\\sklearn.py:861: UserWarning: `early_stopping_rounds` in `fit` method is deprecated for better compatibility with scikit-learn, use `early_stopping_rounds` in constructor or`set_params` instead.\n",
      "  warnings.warn(\n"
     ]
    },
    {
     "name": "stdout",
     "output_type": "stream",
     "text": [
      "[22]\tvalidation_0-logloss:0.06705\n",
      "[24]\tvalidation_0-logloss:0.06288\n",
      "[26]\tvalidation_0-logloss:0.05968\n",
      "[28]\tvalidation_0-logloss:0.05708\n",
      "[30]\tvalidation_0-logloss:0.05471\n",
      "[32]\tvalidation_0-logloss:0.05213\n",
      "[34]\tvalidation_0-logloss:0.05076\n",
      "[36]\tvalidation_0-logloss:0.04931\n",
      "[38]\tvalidation_0-logloss:0.04832\n",
      "[40]\tvalidation_0-logloss:0.04757\n",
      "[42]\tvalidation_0-logloss:0.04632\n",
      "[44]\tvalidation_0-logloss:0.04580\n",
      "[46]\tvalidation_0-logloss:0.04470\n",
      "[48]\tvalidation_0-logloss:0.04463\n",
      "[50]\tvalidation_0-logloss:0.04425\n",
      "[52]\tvalidation_0-logloss:0.04406\n",
      "[54]\tvalidation_0-logloss:0.04354\n",
      "[56]\tvalidation_0-logloss:0.04328\n",
      "[58]\tvalidation_0-logloss:0.04290\n",
      "[60]\tvalidation_0-logloss:0.04248\n",
      "[62]\tvalidation_0-logloss:0.04240\n",
      "[64]\tvalidation_0-logloss:0.04253\n",
      "[66]\tvalidation_0-logloss:0.04232\n",
      "[68]\tvalidation_0-logloss:0.04234\n",
      "[70]\tvalidation_0-logloss:0.04232\n",
      "[72]\tvalidation_0-logloss:0.04229\n",
      "[74]\tvalidation_0-logloss:0.04226\n",
      "[76]\tvalidation_0-logloss:0.04227\n",
      "[78]\tvalidation_0-logloss:0.04220\n",
      "[80]\tvalidation_0-logloss:0.04234\n",
      "[82]\tvalidation_0-logloss:0.04204\n",
      "[84]\tvalidation_0-logloss:0.04198\n",
      "[86]\tvalidation_0-logloss:0.04174\n",
      "[88]\tvalidation_0-logloss:0.04187\n",
      "[90]\tvalidation_0-logloss:0.04186\n",
      "[92]\tvalidation_0-logloss:0.04179\n",
      "[94]\tvalidation_0-logloss:0.04190\n",
      "[96]\tvalidation_0-logloss:0.04184\n",
      "[98]\tvalidation_0-logloss:0.04177\n",
      "[100]\tvalidation_0-logloss:0.04182\n",
      "[102]\tvalidation_0-logloss:0.04183\n",
      "[104]\tvalidation_0-logloss:0.04194\n",
      "[106]\tvalidation_0-logloss:0.04197\n",
      "[108]\tvalidation_0-logloss:0.04196\n",
      "[110]\tvalidation_0-logloss:0.04200\n",
      "[112]\tvalidation_0-logloss:0.04200\n",
      "[114]\tvalidation_0-logloss:0.04200\n",
      "[116]\tvalidation_0-logloss:0.04186\n",
      "[118]\tvalidation_0-logloss:0.04189\n",
      "[120]\tvalidation_0-logloss:0.04195\n",
      "[122]\tvalidation_0-logloss:0.04193\n",
      "[124]\tvalidation_0-logloss:0.04186\n",
      "[126]\tvalidation_0-logloss:0.04191\n",
      "[128]\tvalidation_0-logloss:0.04192\n",
      "[130]\tvalidation_0-logloss:0.04196\n",
      "[132]\tvalidation_0-logloss:0.04204\n",
      "[134]\tvalidation_0-logloss:0.04200\n",
      "[136]\tvalidation_0-logloss:0.04201\n",
      "[138]\tvalidation_0-logloss:0.04207\n",
      "[140]\tvalidation_0-logloss:0.04202\n",
      "[142]\tvalidation_0-logloss:0.04194\n",
      "[144]\tvalidation_0-logloss:0.04195\n",
      "[146]\tvalidation_0-logloss:0.04208\n",
      "[148]\tvalidation_0-logloss:0.04203\n",
      "[150]\tvalidation_0-logloss:0.04194\n",
      "[152]\tvalidation_0-logloss:0.04197\n",
      "[154]\tvalidation_0-logloss:0.04200\n",
      "[156]\tvalidation_0-logloss:0.04211\n",
      "[158]\tvalidation_0-logloss:0.04204\n",
      "[160]\tvalidation_0-logloss:0.04205\n",
      "[162]\tvalidation_0-logloss:0.04210\n",
      "[164]\tvalidation_0-logloss:0.04204\n",
      "[166]\tvalidation_0-logloss:0.04205\n",
      "[168]\tvalidation_0-logloss:0.04205\n",
      "[170]\tvalidation_0-logloss:0.04206\n",
      "[172]\tvalidation_0-logloss:0.04202\n",
      "[174]\tvalidation_0-logloss:0.04210\n",
      "[176]\tvalidation_0-logloss:0.04206\n",
      "[178]\tvalidation_0-logloss:0.04202\n",
      "[180]\tvalidation_0-logloss:0.04202\n",
      "[182]\tvalidation_0-logloss:0.04203\n",
      "[184]\tvalidation_0-logloss:0.04200\n",
      "[186]\tvalidation_0-logloss:0.04198\n",
      "[188]\tvalidation_0-logloss:0.04197\n",
      "[190]\tvalidation_0-logloss:0.04199\n",
      "[192]\tvalidation_0-logloss:0.04196\n",
      "[194]\tvalidation_0-logloss:0.04198\n",
      "[196]\tvalidation_0-logloss:0.04195\n",
      "[198]\tvalidation_0-logloss:0.04202\n",
      "XGBClassifier(base_score=0.5, booster='gbtree', callbacks=None,\n",
      "              colsample_bylevel=1, colsample_bynode=1, colsample_bytree=1,\n",
      "              early_stopping_rounds=None, enable_categorical=False,\n",
      "              eval_metric=None, feature_types=None, gamma=0, gpu_id=-1,\n",
      "              grow_policy='depthwise', importance_type=None,\n",
      "              interaction_constraints='', learning_rate=0.18, max_bin=256,\n",
      "              max_cat_threshold=64, max_cat_to_onehot=4, max_delta_step=0,\n",
      "              max_depth=4, max_leaves=0, min_child_weight=1, missing=nan,\n",
      "              monotone_constraints='()', n_estimators=500, n_jobs=0,\n",
      "              num_parallel_tree=1, predictor='auto', random_state=32, ...)\n"
     ]
    }
   ],
   "source": [
    "model = XGBClassifier(n_estimators=500, learning_rate=0.18, max_depth=4, random_state=32)\n",
    "xgb_model = model.fit(X_train, y_train, eval_metric=\"logloss\", \n",
    "                      early_stopping_rounds=100, eval_set=([X_val, y_val],),\n",
    "                      verbose=2)\n",
    "print(xgb_model)"
   ]
  },
  {
   "attachments": {},
   "cell_type": "markdown",
   "metadata": {},
   "source": [
    "### predict test"
   ]
  },
  {
   "cell_type": "code",
   "execution_count": 21,
   "metadata": {},
   "outputs": [],
   "source": [
    "expected_y = y_test\n",
    "pred_y = xgb_model.predict(X_test)"
   ]
  },
  {
   "attachments": {},
   "cell_type": "markdown",
   "metadata": {},
   "source": [
    "### scores"
   ]
  },
  {
   "cell_type": "code",
   "execution_count": 22,
   "metadata": {},
   "outputs": [
    {
     "name": "stdout",
     "output_type": "stream",
     "text": [
      "              precision    recall  f1-score   support\n",
      "\n",
      "           0       1.00      0.93      0.96        44\n",
      "           1       1.00      0.84      0.92        45\n",
      "           2       0.90      0.90      0.90        49\n",
      "           3       1.00      0.96      0.98        53\n",
      "           4       1.00      0.81      0.89        47\n",
      "           5       0.97      0.85      0.90        33\n",
      "           6       0.90      0.70      0.79        37\n",
      "           7       0.97      0.94      0.96        36\n",
      "           8       0.97      0.95      0.96        63\n",
      "           9       1.00      0.92      0.96        38\n",
      "          10       1.00      0.94      0.97        34\n",
      "          11       1.00      0.78      0.88        32\n",
      "          12       1.00      0.96      0.98        45\n",
      "\n",
      "   micro avg       0.98      0.89      0.93       556\n",
      "   macro avg       0.98      0.88      0.93       556\n",
      "weighted avg       0.98      0.89      0.93       556\n",
      " samples avg       0.89      0.89      0.89       556\n",
      "\n",
      "Accuracy: 88.31%\n"
     ]
    },
    {
     "name": "stderr",
     "output_type": "stream",
     "text": [
      "c:\\Users\\miming\\anaconda3\\envs\\yolo-pose\\lib\\site-packages\\sklearn\\metrics\\_classification.py:1334: UndefinedMetricWarning: Precision and F-score are ill-defined and being set to 0.0 in samples with no predicted labels. Use `zero_division` parameter to control this behavior.\n",
      "  _warn_prf(average, modifier, msg_start, len(result))\n"
     ]
    }
   ],
   "source": [
    "print(classification_report(expected_y, pred_y))\n",
    "accuracy = accuracy_score(expected_y, pred_y)\n",
    "print(\"Accuracy: %.2f%%\" % (accuracy * 100))"
   ]
  },
  {
   "attachments": {},
   "cell_type": "markdown",
   "metadata": {},
   "source": [
    "### cross validation"
   ]
  },
  {
   "cell_type": "code",
   "execution_count": 23,
   "metadata": {},
   "outputs": [
    {
     "name": "stdout",
     "output_type": "stream",
     "text": [
      "교차 검증별 정확도:  [86.77 88.   87.08 82.46 84.62]\n",
      "평균 검증 정확도:  85.78\n"
     ]
    }
   ],
   "source": [
    "# cross validation - kfold\n",
    "kfold = KFold(n_splits=5, shuffle=True, random_state=0)\n",
    "scores = cross_val_score(xgb_model, X_train_over, y_train_over, cv=kfold)\n",
    "\n",
    "# validation score\n",
    "print(\"교차 검증별 정확도: \", (np.round(scores, 4)* 100))\n",
    "print(\"평균 검증 정확도: \", (np.round(np.mean(scores), 4)*100))"
   ]
  },
  {
   "attachments": {},
   "cell_type": "markdown",
   "metadata": {},
   "source": [
    "### save model"
   ]
  },
  {
   "cell_type": "code",
   "execution_count": 24,
   "metadata": {},
   "outputs": [],
   "source": [
    "xgb_model.save_model('xgb_mv3_3.json')"
   ]
  }
 ],
 "metadata": {
  "kernelspec": {
   "display_name": "yolo-pose",
   "language": "python",
   "name": "python3"
  },
  "language_info": {
   "codemirror_mode": {
    "name": "ipython",
    "version": 3
   },
   "file_extension": ".py",
   "mimetype": "text/x-python",
   "name": "python",
   "nbconvert_exporter": "python",
   "pygments_lexer": "ipython3",
   "version": "3.9.15"
  },
  "orig_nbformat": 4,
  "vscode": {
   "interpreter": {
    "hash": "fbcaa283362f7d7ab34f1f2f660dc94f80607c09155e3180ae2420da513f18b9"
   }
  }
 },
 "nbformat": 4,
 "nbformat_minor": 2
}
