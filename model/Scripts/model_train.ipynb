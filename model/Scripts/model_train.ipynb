{
 "cells": [
  {
   "cell_type": "code",
   "execution_count": 8,
   "metadata": {},
   "outputs": [],
   "source": [
    "from imblearn.over_sampling import SMOTE\n",
    "import numpy as np\n",
    "from xgboost import XGBClassifier\n",
    "from sklearn.metrics import accuracy_score, classification_report\n",
    "from sklearn.model_selection import train_test_split, KFold, cross_val_score"
   ]
  },
  {
   "attachments": {},
   "cell_type": "markdown",
   "metadata": {},
   "source": [
    "### load csv data"
   ]
  },
  {
   "cell_type": "code",
   "execution_count": 9,
   "metadata": {},
   "outputs": [],
   "source": [
    "X_train = np.loadtxt('../data/csvs/csv_4/train_x_mv4_22_nor.csv', delimiter=',', skiprows=1)\n",
    "y_train = np.loadtxt('../data/csvs/csv_4/train_y_mv4_22_nor.csv', delimiter=',', skiprows=1)\n",
    "X_test = np.loadtxt('../data/csvs/csv_4/test_x_mv4_22_nor.csv', delimiter=',', skiprows=1)\n",
    "y_test = np.loadtxt('../data/csvs/csv_4/test_y_mv4_22_nor.csv', delimiter=',', skiprows=1)"
   ]
  },
  {
   "attachments": {},
   "cell_type": "markdown",
   "metadata": {},
   "source": [
    "### keypoint noralization"
   ]
  },
  {
   "cell_type": "code",
   "execution_count": 10,
   "metadata": {},
   "outputs": [
    {
     "data": {
      "text/plain": [
       "array([[0.45546875, 0.62916667, 0.46484375, ..., 0.18333333, 0.        ,\n",
       "        0.        ],\n",
       "       [0.375     , 0.4       , 0.3734375 , ..., 0.06111111, 0.        ,\n",
       "        0.        ],\n",
       "       [0.37734375, 0.40416667, 0.3796875 , ..., 0.075     , 0.        ,\n",
       "        0.        ],\n",
       "       ...,\n",
       "       [0.46484375, 0.51805556, 0.50078125, ..., 0.        , 0.246875  ,\n",
       "        0.51527778],\n",
       "       [0.4828125 , 0.55694444, 0.515625  , ..., 0.        , 0.        ,\n",
       "        0.        ],\n",
       "       [0.47109375, 0.44583333, 0.51171875, ..., 0.45      , 0.21953125,\n",
       "        0.39861111]])"
      ]
     },
     "execution_count": 10,
     "metadata": {},
     "output_type": "execute_result"
    }
   ],
   "source": [
    "X_train = np.array(X_train)\n",
    "X_train[:, ::2] /= 1280\n",
    "X_train[:, 1::2] /= 720\n",
    "X_train"
   ]
  },
  {
   "cell_type": "code",
   "execution_count": 11,
   "metadata": {},
   "outputs": [],
   "source": [
    "X_test = np.array(X_test)\n",
    "X_test[:, ::2] /= 1280\n",
    "X_test[:, 1::2] /= 720\n"
   ]
  },
  {
   "attachments": {},
   "cell_type": "markdown",
   "metadata": {},
   "source": [
    "### over sampling using SMOTE"
   ]
  },
  {
   "cell_type": "code",
   "execution_count": 42,
   "metadata": {},
   "outputs": [],
   "source": [
    "smote = SMOTE(random_state=11)\n",
    "X_train_over, y_train_over = smote.fit_resample(X_train, y_train)"
   ]
  },
  {
   "attachments": {},
   "cell_type": "markdown",
   "metadata": {},
   "source": [
    "### split train, validation data"
   ]
  },
  {
   "cell_type": "code",
   "execution_count": 43,
   "metadata": {},
   "outputs": [],
   "source": [
    "X_train, X_val, y_train, y_val = train_test_split(X_train_over, y_train_over, test_size=0.10)"
   ]
  },
  {
   "attachments": {},
   "cell_type": "markdown",
   "metadata": {},
   "source": [
    "### train with XGBClassifier"
   ]
  },
  {
   "cell_type": "code",
   "execution_count": 17,
   "metadata": {},
   "outputs": [
    {
     "name": "stdout",
     "output_type": "stream",
     "text": [
      "[0]\tvalidation_0-logloss:0.55281\n",
      "[2]\tvalidation_0-logloss:0.37790\n",
      "[4]\tvalidation_0-logloss:0.27492\n",
      "[6]\tvalidation_0-logloss:0.20955\n",
      "[8]\tvalidation_0-logloss:0.16613\n",
      "[10]\tvalidation_0-logloss:0.13694\n",
      "[12]\tvalidation_0-logloss:0.11690\n",
      "[14]\tvalidation_0-logloss:0.10333\n",
      "[16]\tvalidation_0-logloss:0.09284\n",
      "[18]\tvalidation_0-logloss:0.08582\n",
      "[20]\tvalidation_0-logloss:0.07983\n",
      "[22]\tvalidation_0-logloss:0.07566\n",
      "[24]\tvalidation_0-logloss:0.07249\n",
      "[26]\tvalidation_0-logloss:0.06957\n",
      "[28]\tvalidation_0-logloss:0.06801\n",
      "[30]\tvalidation_0-logloss:0.06582\n",
      "[32]\tvalidation_0-logloss:0.06415\n",
      "[34]\tvalidation_0-logloss:0.06340\n",
      "[36]\tvalidation_0-logloss:0.06245\n",
      "[38]\tvalidation_0-logloss:0.06195\n",
      "[40]\tvalidation_0-logloss:0.06127\n",
      "[42]\tvalidation_0-logloss:0.06058\n",
      "[44]\tvalidation_0-logloss:0.06005\n",
      "[46]\tvalidation_0-logloss:0.06010\n",
      "[48]\tvalidation_0-logloss:0.06004\n",
      "[50]\tvalidation_0-logloss:0.05990\n",
      "[52]\tvalidation_0-logloss:0.05969\n",
      "[54]\tvalidation_0-logloss:0.05979\n",
      "[56]\tvalidation_0-logloss:0.05964\n",
      "[58]\tvalidation_0-logloss:0.05966\n",
      "[60]\tvalidation_0-logloss:0.05965\n",
      "[62]\tvalidation_0-logloss:0.05958\n",
      "[64]\tvalidation_0-logloss:0.05951\n",
      "[66]\tvalidation_0-logloss:0.05951\n",
      "[68]\tvalidation_0-logloss:0.05934\n",
      "[70]\tvalidation_0-logloss:0.05908\n",
      "[72]\tvalidation_0-logloss:0.05914\n",
      "[74]\tvalidation_0-logloss:0.05909\n",
      "[76]\tvalidation_0-logloss:0.05902\n",
      "[78]\tvalidation_0-logloss:0.05899\n",
      "[80]\tvalidation_0-logloss:0.05921\n",
      "[82]\tvalidation_0-logloss:0.05917\n",
      "[84]\tvalidation_0-logloss:0.05914\n",
      "[86]\tvalidation_0-logloss:0.05903\n",
      "[88]\tvalidation_0-logloss:0.05890\n",
      "[90]\tvalidation_0-logloss:0.05910\n",
      "[92]\tvalidation_0-logloss:0.05902\n",
      "[94]\tvalidation_0-logloss:0.05891\n",
      "[96]\tvalidation_0-logloss:0.05888\n",
      "[98]\tvalidation_0-logloss:0.05888\n",
      "[100]\tvalidation_0-logloss:0.05905\n",
      "[102]\tvalidation_0-logloss:0.05910\n",
      "[104]\tvalidation_0-logloss:0.05913\n",
      "[106]\tvalidation_0-logloss:0.05905\n",
      "[108]\tvalidation_0-logloss:0.05909\n",
      "[110]\tvalidation_0-logloss:0.05924\n",
      "[112]\tvalidation_0-logloss:0.05929\n",
      "[114]\tvalidation_0-logloss:0.05924\n",
      "[116]\tvalidation_0-logloss:0.05932\n",
      "[118]\tvalidation_0-logloss:0.05933\n",
      "[120]\tvalidation_0-logloss:0.05935\n",
      "[122]\tvalidation_0-logloss:0.05936\n",
      "[124]\tvalidation_0-logloss:0.05942\n",
      "[126]\tvalidation_0-logloss:0.05936\n",
      "[128]\tvalidation_0-logloss:0.05939\n",
      "[130]\tvalidation_0-logloss:0.05939\n",
      "[132]\tvalidation_0-logloss:0.05950\n",
      "[134]\tvalidation_0-logloss:0.05950\n",
      "[136]\tvalidation_0-logloss:0.05951\n",
      "[138]\tvalidation_0-logloss:0.05956\n",
      "[140]\tvalidation_0-logloss:0.05957\n",
      "[142]\tvalidation_0-logloss:0.05953\n",
      "[144]\tvalidation_0-logloss:0.05951\n",
      "[146]\tvalidation_0-logloss:0.05957\n",
      "[148]\tvalidation_0-logloss:0.05960\n",
      "[150]\tvalidation_0-logloss:0.05959\n",
      "[152]\tvalidation_0-logloss:0.05954\n",
      "[154]\tvalidation_0-logloss:0.05952\n",
      "[156]\tvalidation_0-logloss:0.05954\n",
      "[158]\tvalidation_0-logloss:0.05957\n",
      "[160]\tvalidation_0-logloss:0.05963\n",
      "[162]\tvalidation_0-logloss:0.05963\n",
      "[164]\tvalidation_0-logloss:0.05972\n",
      "[166]\tvalidation_0-logloss:0.05975\n",
      "[168]\tvalidation_0-logloss:0.05967\n",
      "[170]\tvalidation_0-logloss:0.05968\n",
      "[172]\tvalidation_0-logloss:0.05973\n",
      "[174]\tvalidation_0-logloss:0.05971\n",
      "[176]\tvalidation_0-logloss:0.05966\n",
      "[178]\tvalidation_0-logloss:0.05971\n",
      "[180]\tvalidation_0-logloss:0.05973\n",
      "[182]\tvalidation_0-logloss:0.05973\n",
      "[184]\tvalidation_0-logloss:0.05974\n",
      "[186]\tvalidation_0-logloss:0.05985\n",
      "[188]\tvalidation_0-logloss:0.05981\n",
      "[190]\tvalidation_0-logloss:0.05980\n",
      "[192]\tvalidation_0-logloss:0.05978\n",
      "[194]\tvalidation_0-logloss:0.05983\n",
      "[195]\tvalidation_0-logloss:0.05976\n",
      "XGBClassifier(base_score=0.5, booster='gbtree', callbacks=None,\n",
      "              colsample_bylevel=1, colsample_bynode=1, colsample_bytree=1,\n",
      "              early_stopping_rounds=None, enable_categorical=False,\n",
      "              eval_metric=None, feature_types=None, gamma=0, gpu_id=-1,\n",
      "              grow_policy='depthwise', importance_type=None,\n",
      "              interaction_constraints='', learning_rate=0.18, max_bin=256,\n",
      "              max_cat_threshold=64, max_cat_to_onehot=4, max_delta_step=0,\n",
      "              max_depth=4, max_leaves=0, min_child_weight=1, missing=nan,\n",
      "              monotone_constraints='()', n_estimators=500, n_jobs=0,\n",
      "              num_parallel_tree=1, predictor='auto', random_state=32, ...)\n"
     ]
    }
   ],
   "source": [
    "model = XGBClassifier(n_estimators=500, learning_rate=0.18, max_depth=4, random_state=32)\n",
    "xgb_model = model.fit(X_train, y_train, eval_metric=\"logloss\", \n",
    "                      early_stopping_rounds=100, eval_set=([X_test, y_test],), verbose=2)\n",
    "print(xgb_model)"
   ]
  },
  {
   "attachments": {},
   "cell_type": "markdown",
   "metadata": {},
   "source": [
    "### predict test"
   ]
  },
  {
   "cell_type": "code",
   "execution_count": 18,
   "metadata": {},
   "outputs": [],
   "source": [
    "expected_y = y_test\n",
    "pred_y = xgb_model.predict(X_test)"
   ]
  },
  {
   "attachments": {},
   "cell_type": "markdown",
   "metadata": {},
   "source": [
    "### scores"
   ]
  },
  {
   "cell_type": "code",
   "execution_count": 19,
   "metadata": {},
   "outputs": [
    {
     "name": "stdout",
     "output_type": "stream",
     "text": [
      "              precision    recall  f1-score   support\n",
      "\n",
      "           0       1.00      0.91      0.95        22\n",
      "           1       1.00      0.81      0.89        21\n",
      "           2       1.00      0.71      0.83        21\n",
      "           3       0.88      0.88      0.88        26\n",
      "           4       0.94      0.77      0.85        22\n",
      "           5       1.00      0.60      0.75        15\n",
      "           6       0.82      0.64      0.72        14\n",
      "           7       1.00      0.71      0.83        17\n",
      "           8       0.91      0.74      0.82        27\n",
      "           9       1.00      0.72      0.84        18\n",
      "          10       1.00      0.55      0.71        11\n",
      "          11       1.00      0.93      0.97        15\n",
      "          12       1.00      0.60      0.75        20\n",
      "\n",
      "   micro avg       0.96      0.75      0.84       249\n",
      "   macro avg       0.97      0.74      0.83       249\n",
      "weighted avg       0.96      0.75      0.84       249\n",
      " samples avg       0.75      0.75      0.75       249\n",
      "\n",
      "Accuracy: 74.30%\n"
     ]
    },
    {
     "name": "stderr",
     "output_type": "stream",
     "text": [
      "c:\\Users\\miming\\anaconda3\\envs\\yolo-pose\\lib\\site-packages\\sklearn\\metrics\\_classification.py:1334: UndefinedMetricWarning: Precision and F-score are ill-defined and being set to 0.0 in samples with no predicted labels. Use `zero_division` parameter to control this behavior.\n",
      "  _warn_prf(average, modifier, msg_start, len(result))\n"
     ]
    }
   ],
   "source": [
    "print(classification_report(expected_y, pred_y))\n",
    "accuracy = accuracy_score(expected_y, pred_y)\n",
    "print(\"Accuracy: %.2f%%\" % (accuracy * 100))"
   ]
  },
  {
   "attachments": {},
   "cell_type": "markdown",
   "metadata": {},
   "source": [
    "### cross validation"
   ]
  },
  {
   "cell_type": "code",
   "execution_count": 21,
   "metadata": {},
   "outputs": [
    {
     "name": "stdout",
     "output_type": "stream",
     "text": [
      "교차 검증별 정확도:  [78.54 78.05 80.49 78.92 78.43]\n",
      "평균 검증 정확도:  78.89\n"
     ]
    }
   ],
   "source": [
    "# cross validation - kfold\n",
    "kfold = KFold(n_splits=5, shuffle=True, random_state=0)\n",
    "scores = cross_val_score(xgb_model, X_train, y_train, cv=kfold)\n",
    "\n",
    "# validation score\n",
    "print(\"교차 검증별 정확도: \", (np.round(scores, 4)* 100))\n",
    "print(\"평균 검증 정확도: \", (np.round(np.mean(scores), 4)*100))"
   ]
  },
  {
   "attachments": {},
   "cell_type": "markdown",
   "metadata": {},
   "source": [
    "### save model"
   ]
  },
  {
   "cell_type": "code",
   "execution_count": 55,
   "metadata": {},
   "outputs": [],
   "source": [
    "xgb_model.save_model('xgb_mv4.json')"
   ]
  }
 ],
 "metadata": {
  "kernelspec": {
   "display_name": "yolo-pose",
   "language": "python",
   "name": "python3"
  },
  "language_info": {
   "codemirror_mode": {
    "name": "ipython",
    "version": 3
   },
   "file_extension": ".py",
   "mimetype": "text/x-python",
   "name": "python",
   "nbconvert_exporter": "python",
   "pygments_lexer": "ipython3",
   "version": "3.9.15"
  },
  "orig_nbformat": 4,
  "vscode": {
   "interpreter": {
    "hash": "fbcaa283362f7d7ab34f1f2f660dc94f80607c09155e3180ae2420da513f18b9"
   }
  }
 },
 "nbformat": 4,
 "nbformat_minor": 2
}
